{
 "cells": [
  {
   "cell_type": "code",
   "execution_count": 15,
   "metadata": {},
   "outputs": [],
   "source": [
    "# Import Dependencies for Setup\n",
    "import pandas as pd\n",
    "\n",
    "# Load Files\n",
    "school_data_to_load = \"/Users/brianroberts1/Documents/GitHub/pandas_challenge/PyCitySchools/schools_complete_data.csv\"\n",
    "student_data_to_load = \"/Users/brianroberts1/Documents/GitHub/pandas_challenge/PyCitySchools/students_complete_data.csv\"\n",
    "\n",
    "# Read the School and Student Data Files and store them into Pandas DataFrames\n",
    "school_data = pd.read_csv(school_data_to_load)\n",
    "student_data = pd.read_csv(student_data_to_load)\n",
    "    \n",
    "# Combine data into single dataset\n",
    "school_data_complete = pd.merge(student_data, school_data, how=\"left\", on = [\"school_name\", \"school_name\"])\n"
   ]
  }
 ],
 "metadata": {
  "kernelspec": {
   "display_name": "Python 3",
   "language": "python",
   "name": "python3"
  },
  "language_info": {
   "codemirror_mode": {
    "name": "ipython",
    "version": 3
   },
   "file_extension": ".py",
   "mimetype": "text/x-python",
   "name": "python",
   "nbconvert_exporter": "python",
   "pygments_lexer": "ipython3",
   "version": "3.6.10"
  }
 },
 "nbformat": 4,
 "nbformat_minor": 4
}
