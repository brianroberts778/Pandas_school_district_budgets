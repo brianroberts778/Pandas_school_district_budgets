{
 "cells": [
  {
   "cell_type": "code",
   "execution_count": 65,
   "metadata": {},
   "outputs": [],
   "source": [
    "# Import Dependencies for Setup\n",
    "import pandas as pd\n",
    "\n",
    "# Load Files\n",
    "school_data_to_load = \"/Users/brianroberts1/Documents/GitHub/pandas_challenge/PyCitySchools/schools_complete_data.csv\"\n",
    "student_data_to_load = \"/Users/brianroberts1/Documents/GitHub/pandas_challenge/PyCitySchools/students_complete_data.csv\"\n",
    "\n",
    "# Read the School and Student Data Files and store them into Pandas DataFrames\n",
    "school_data = pd.read_csv(school_data_to_load)\n",
    "student_data = pd.read_csv(student_data_to_load)\n",
    "    \n",
    "# Combine data into single dataset\n",
    "school_data_whole = pd.merge(student_data, school_data, how=\"left\", on = [\"school_name\", \"school_name\"])"
   ]
  },
  {
   "cell_type": "code",
   "execution_count": 85,
   "metadata": {},
   "outputs": [
    {
     "data": {
      "text/html": [
       "<style  type=\"text/css\" >\n",
       "</style><table id=\"T_e2db2ab4_0f02_11eb_bd9b_acde48001122\" ><thead>    <tr>        <th class=\"blank level0\" ></th>        <th class=\"col_heading level0 col0\" >Total Schools</th>        <th class=\"col_heading level0 col1\" >Total Students</th>        <th class=\"col_heading level0 col2\" >Total Budget</th>        <th class=\"col_heading level0 col3\" >Average Math Score</th>        <th class=\"col_heading level0 col4\" >Average Reading Score</th>        <th class=\"col_heading level0 col5\" >% Passing Math</th>        <th class=\"col_heading level0 col6\" >% Passing Reading</th>        <th class=\"col_heading level0 col7\" >% Passing Overall</th>    </tr></thead><tbody>\n",
       "                <tr>\n",
       "                        <th id=\"T_e2db2ab4_0f02_11eb_bd9b_acde48001122level0_row0\" class=\"row_heading level0 row0\" >0</th>\n",
       "                        <td id=\"T_e2db2ab4_0f02_11eb_bd9b_acde48001122row0_col0\" class=\"data row0 col0\" >15</td>\n",
       "                        <td id=\"T_e2db2ab4_0f02_11eb_bd9b_acde48001122row0_col1\" class=\"data row0 col1\" >39,170</td>\n",
       "                        <td id=\"T_e2db2ab4_0f02_11eb_bd9b_acde48001122row0_col2\" class=\"data row0 col2\" >$24,649,428.00</td>\n",
       "                        <td id=\"T_e2db2ab4_0f02_11eb_bd9b_acde48001122row0_col3\" class=\"data row0 col3\" >78.99</td>\n",
       "                        <td id=\"T_e2db2ab4_0f02_11eb_bd9b_acde48001122row0_col4\" class=\"data row0 col4\" >81.88</td>\n",
       "                        <td id=\"T_e2db2ab4_0f02_11eb_bd9b_acde48001122row0_col5\" class=\"data row0 col5\" >74.98%</td>\n",
       "                        <td id=\"T_e2db2ab4_0f02_11eb_bd9b_acde48001122row0_col6\" class=\"data row0 col6\" >85.81%</td>\n",
       "                        <td id=\"T_e2db2ab4_0f02_11eb_bd9b_acde48001122row0_col7\" class=\"data row0 col7\" >65.17%</td>\n",
       "            </tr>\n",
       "    </tbody></table>"
      ],
      "text/plain": [
       "<pandas.io.formats.style.Styler at 0x7fc07c7c2908>"
      ]
     },
     "execution_count": 85,
     "metadata": {},
     "output_type": "execute_result"
    }
   ],
   "source": [
    "### DISTRICT SUMMARY ###\n",
    "\n",
    "# Calculate the total number of schools in the district\n",
    "total_number_of_schools = school_data_whole['school_name'].nunique()\n",
    "###print(total_number_of_schools)\n",
    "\n",
    "# Calculate the total number of students in the district\n",
    "total_number_of_students = school_data_whole['student_name'].count()\n",
    "###print(total_number_of_students)\n",
    "\n",
    "# Calculate the total budget for the district\n",
    "total_budget = school_data['budget'].sum()\n",
    "###print(total_budget)\n",
    "\n",
    "# Calculate the average math score across the district\n",
    "avg_math_score = school_data_whole['math_score'].mean(skipna=True)\n",
    "###print(round(avg_math_score,2))\n",
    "\n",
    "# Calculate the average reading score across the district\n",
    "avg_reading_score = school_data_whole['reading_score'].mean(skipna=True)\n",
    "###print(round(avg_reading_score,2))\n",
    "\n",
    "# Calculate the percentage of students with a passing math score, 70 or greater\n",
    "percent_passing_math = len(school_data_whole[school_data_whole['math_score']>=70])/(total_number_of_students)\n",
    "###print(round(percent_passing_math,2))\n",
    "\n",
    "# Calculate the percentage of students with a passing reading score, 70 or greater\n",
    "percent_passing_reading = len(school_data_whole[school_data_whole['reading_score']>=70])/(total_number_of_students)\n",
    "###print(round(percent_passing_reading,2))\n",
    "\n",
    "# Calculate the percentage of students with passing math and reading scores\n",
    "percent_passing_both = len(school_data_whole[(school_data_whole['math_score']>=70)&(school_data_whole['reading_score']>=70)])/(total_number_of_students)\n",
    "###print(round(percent_passing_both,2))\n",
    "\n",
    "# Create a dataframe to hold the results above\n",
    "district_summary = {'Total Schools':[total_number_of_schools],'Total Students':[total_number_of_students],'Total Budget':[total_budget],'Average Math Score':[avg_math_score],'Average Reading Score':[avg_reading_score], \n",
    "                    '% Passing Math':[percent_passing_math],'% Passing Reading':[percent_passing_reading],'% Passing Overall':[percent_passing_both]}\n",
    "district_summary_df = pd.DataFrame(district_summary, columns = ['Total Schools','Total Students','Total Budget','Average Math Score','Average Reading Score','% Passing Math','% Passing Reading','% Passing Overall'])\n",
    "\n",
    "# Format cells\n",
    "district_summary_df.style.format({\"Total Students\":\"{:,}\",\"Total Budget\":\"${:,.2f}\",\"Average Math Score\":\"{:.2f}\",\"Average Reading Score\":\"{:.2f}\",\"% Passing Math\":\"{:.2%}\",\"% Passing Reading\":\"{:.2%}\",\"% Passing Overall\":\"{:.2%}\"})\n"
   ]
  },
  {
   "cell_type": "code",
   "execution_count": 90,
   "metadata": {},
   "outputs": [
    {
     "name": "stdout",
     "output_type": "stream",
     "text": [
      "0     655.0\n",
      "1     639.0\n",
      "2     600.0\n",
      "3     652.0\n",
      "4     625.0\n",
      "5     578.0\n",
      "6     582.0\n",
      "7     628.0\n",
      "8     581.0\n",
      "9     609.0\n",
      "10    583.0\n",
      "11    637.0\n",
      "12    650.0\n",
      "13    644.0\n",
      "14    638.0\n",
      "dtype: float64\n"
     ]
    }
   ],
   "source": [
    "### SCHOOL SUMMARY ###\n",
    "\n",
    "# Group the merged data frames by school name  \n",
    "group_by_school = school_data_whole.groupby(['school_name'])\n",
    "\n",
    "# Determine the school type for each school\n",
    "school_type = school_data['type']\n",
    "\n",
    "# Determine the total number of students at each school\n",
    "school_students = school_data['size']\n",
    "\n",
    "# Determine the total budget for each school\n",
    "school_budget = school_data['budget']\n",
    "\n",
    "# Calculate the per student budget for each school\n",
    "school_budget_per_student = school_budget/school_students\n",
    "\n",
    "# Calculate the average math score for each school\n",
    "school_avg_mat\n",
    "\n",
    "# Calculate the average reading score for each school\n",
    "\n",
    "# Calculate the percent passing math for each school\n",
    "\n",
    "# Calculate the percent passing reading for each school\n",
    "\n",
    "# Calculate the percent passing both for each school\n",
    "\n",
    "# Print results in a summary table\n",
    "print(school_budget_per_student)"
   ]
  },
  {
   "cell_type": "code",
   "execution_count": null,
   "metadata": {},
   "outputs": [],
   "source": []
  }
 ],
 "metadata": {
  "kernelspec": {
   "display_name": "Python 3",
   "language": "python",
   "name": "python3"
  },
  "language_info": {
   "codemirror_mode": {
    "name": "ipython",
    "version": 3
   },
   "file_extension": ".py",
   "mimetype": "text/x-python",
   "name": "python",
   "nbconvert_exporter": "python",
   "pygments_lexer": "ipython3",
   "version": "3.6.10"
  }
 },
 "nbformat": 4,
 "nbformat_minor": 4
}
