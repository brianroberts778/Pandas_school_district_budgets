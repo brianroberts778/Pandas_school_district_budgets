{
 "cells": [
  {
   "cell_type": "code",
   "execution_count": 65,
   "metadata": {},
   "outputs": [],
   "source": [
    "# Import Dependencies for Setup\n",
    "import pandas as pd\n",
    "\n",
    "# Load Files\n",
    "school_data_to_load = \"/Users/brianroberts1/Documents/GitHub/pandas_challenge/PyCitySchools/schools_complete_data.csv\"\n",
    "student_data_to_load = \"/Users/brianroberts1/Documents/GitHub/pandas_challenge/PyCitySchools/students_complete_data.csv\"\n",
    "\n",
    "# Read the School and Student Data Files and store them into Pandas DataFrames\n",
    "school_data = pd.read_csv(school_data_to_load)\n",
    "student_data = pd.read_csv(student_data_to_load)\n",
    "    \n",
    "# Combine data into single dataset\n",
    "school_data_whole = pd.merge(student_data, school_data, how=\"left\", on = [\"school_name\", \"school_name\"])"
   ]
  },
  {
   "cell_type": "code",
   "execution_count": 79,
   "metadata": {},
   "outputs": [
    {
     "name": "stdout",
     "output_type": "stream",
     "text": [
      "15\n",
      "39170\n",
      "24649428\n",
      "78.99\n",
      "81.88\n",
      "74.98\n",
      "85.81\n",
      "65.17\n",
      "   Total Schools  Total Students  Total Budget  Average Math Score  \\\n",
      "0             15           39170      24649428           78.985371   \n",
      "\n",
      "   Average Reading Score  % Passing Math  % Passing Reading  % Passing Overall  \n",
      "0               81.87784       74.980853          85.805463          65.172326  \n"
     ]
    }
   ],
   "source": [
    "# Calculate the total number of schools in the district\n",
    "total_number_of_schools = school_data_whole['school_name'].nunique()\n",
    "print(total_number_of_schools)\n",
    "\n",
    "# Calculate the total number of students in the district\n",
    "total_number_of_students = school_data_whole['student_name'].count()\n",
    "print(total_number_of_students)\n",
    "\n",
    "# Calculate the total budget for the district\n",
    "total_budget = school_data['budget'].sum()\n",
    "print(total_budget)\n",
    "\n",
    "# Calculate the average math score across the district\n",
    "avg_math_score = school_data_whole['math_score'].mean(skipna=True)\n",
    "print(round(avg_math_score,2))\n",
    "\n",
    "# Calculate the average reading score across the district\n",
    "avg_reading_score = school_data_whole['reading_score'].mean(skipna=True)\n",
    "print(round(avg_reading_score,2))\n",
    "\n",
    "# Calculate the percentage of students with a passing math score, 70 or greater\n",
    "percent_passing_math = len(school_data_whole[school_data_whole['math_score']>=70])/(total_number_of_students)*100\n",
    "print(round(percent_passing_math,2))\n",
    "\n",
    "# Calculate the percentage of students with a passing reading score, 70 or greater\n",
    "percent_passing_reading = len(school_data_whole[school_data_whole['reading_score']>=70])/(total_number_of_students)*100\n",
    "print(round(percent_passing_reading,2))\n",
    "\n",
    "# Calculate the percentage of students with passing math and reading scores\n",
    "percent_passing_both = len(school_data_whole[(school_data_whole['math_score']>=70)&(school_data_whole['reading_score']>=70)])/(total_number_of_students)*100\n",
    "print(round(percent_passing_both,2))\n",
    "\n",
    "# Create a dataframe to hold the results above\n",
    "district_summary = {'Total Schools':[total_number_of_schools],'Total Students':[total_number_of_students],'Total Budget':[total_budget],'Average Math Score':[avg_math_score],'Average Reading Score':[avg_reading_score], \n",
    "                    '% Passing Math':[percent_passing_math],'% Passing Reading':[percent_passing_reading],'% Passing Overall':[percent_passing_both]}\n",
    "district_summary_df = pd.DataFrame(district_summary, columns = ['Total Schools','Total Students','Total Budget','Average Math Score','Average Reading Score','% Passing Math','% Passing Reading','% Passing Overall'])\n",
    "print(district_summary_df)"
   ]
  },
  {
   "cell_type": "code",
   "execution_count": null,
   "metadata": {},
   "outputs": [],
   "source": []
  },
  {
   "cell_type": "code",
   "execution_count": null,
   "metadata": {},
   "outputs": [],
   "source": []
  }
 ],
 "metadata": {
  "kernelspec": {
   "display_name": "Python 3",
   "language": "python",
   "name": "python3"
  },
  "language_info": {
   "codemirror_mode": {
    "name": "ipython",
    "version": 3
   },
   "file_extension": ".py",
   "mimetype": "text/x-python",
   "name": "python",
   "nbconvert_exporter": "python",
   "pygments_lexer": "ipython3",
   "version": "3.6.10"
  }
 },
 "nbformat": 4,
 "nbformat_minor": 4
}
