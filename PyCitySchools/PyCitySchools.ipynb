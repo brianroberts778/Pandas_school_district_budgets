{
 "cells": [
  {
   "cell_type": "code",
   "execution_count": 28,
   "metadata": {},
   "outputs": [],
   "source": [
    "# Import Dependencies for Setup\n",
    "import pandas as pd\n",
    "\n",
    "# Load Files\n",
    "school_data_to_load = \"/Users/brianroberts1/Documents/GitHub/pandas_challenge/PyCitySchools/schools_complete_data.csv\"\n",
    "student_data_to_load = \"/Users/brianroberts1/Documents/GitHub/pandas_challenge/PyCitySchools/students_complete_data.csv\"\n",
    "\n",
    "# Read the School and Student Data Files and store them into Pandas DataFrames\n",
    "school_data = pd.read_csv(school_data_to_load)\n",
    "student_data = pd.read_csv(student_data_to_load)\n",
    "    \n",
    "# Combine data into single dataset\n",
    "school_data_whole = pd.merge(student_data, school_data, how=\"left\", on = [\"school_name\", \"school_name\"])"
   ]
  },
  {
   "cell_type": "code",
   "execution_count": 36,
   "metadata": {},
   "outputs": [
    {
     "name": "stdout",
     "output_type": "stream",
     "text": [
      "15\n",
      "39170\n",
      "24649428\n",
      "78.98537\n",
      "81.87784\n"
     ]
    }
   ],
   "source": [
    "# Calculate the total number of schools in the district\n",
    "total_number_of_schools = school_data_whole['school_name'].nunique()\n",
    "print(total_number_of_schools)\n",
    "\n",
    "# Calculate the total number of students in the district\n",
    "total_number_of_students = school_data_whole['student_name'].count()\n",
    "print(total_number_of_students)\n",
    "\n",
    "# Calculate the total budget for the district\n",
    "total_budget = school_data['budget'].sum()\n",
    "print(total_budget)\n",
    "\n",
    "# Calculate the average math score across the district\n",
    "avg_math_score = school_data_whole['math_score'].mean(skipna=True)\n",
    "print(round(avg_math_score,5))\n",
    "\n",
    "# Calculate the average reading score across the district\n",
    "avg_reading_score = school_data_whole['reading_score'].mean(skipna=True)\n",
    "print(round(avg_reading_score,5))"
   ]
  },
  {
   "cell_type": "code",
   "execution_count": null,
   "metadata": {},
   "outputs": [],
   "source": []
  }
 ],
 "metadata": {
  "kernelspec": {
   "display_name": "Python 3",
   "language": "python",
   "name": "python3"
  },
  "language_info": {
   "codemirror_mode": {
    "name": "ipython",
    "version": 3
   },
   "file_extension": ".py",
   "mimetype": "text/x-python",
   "name": "python",
   "nbconvert_exporter": "python",
   "pygments_lexer": "ipython3",
   "version": "3.6.10"
  }
 },
 "nbformat": 4,
 "nbformat_minor": 4
}
